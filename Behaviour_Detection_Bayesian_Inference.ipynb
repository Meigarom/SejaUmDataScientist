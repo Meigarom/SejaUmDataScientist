{
 "cells": [
  {
   "cell_type": "markdown",
   "metadata": {},
   "source": [
    "# 0.0. Imports"
   ]
  },
  {
   "cell_type": "code",
   "execution_count": 58,
   "metadata": {
    "ExecuteTime": {
     "end_time": "2020-04-20T10:20:52.204005Z",
     "start_time": "2020-04-20T10:20:52.167476Z"
    }
   },
   "outputs": [],
   "source": [
    "import pandas as pd\n",
    "import numpy as np\n",
    "import pymc3 as pm\n",
    "\n",
    "from  matplotlib import pyplot as plt"
   ]
  },
  {
   "cell_type": "markdown",
   "metadata": {
    "ExecuteTime": {
     "end_time": "2020-04-19T21:12:00.896109Z",
     "start_time": "2020-04-19T21:12:00.881786Z"
    }
   },
   "source": [
    "## 0.1. Loading Data"
   ]
  },
  {
   "cell_type": "code",
   "execution_count": 2,
   "metadata": {
    "ExecuteTime": {
     "end_time": "2020-04-20T09:40:28.814081Z",
     "start_time": "2020-04-20T09:40:28.199359Z"
    }
   },
   "outputs": [],
   "source": [
    "df_raw = pd.read_csv( 'brazilian-ecommerce/olist_orders_dataset.csv' )"
   ]
  },
  {
   "cell_type": "markdown",
   "metadata": {},
   "source": [
    "# 1.0. Data Description"
   ]
  },
  {
   "cell_type": "code",
   "execution_count": 3,
   "metadata": {
    "ExecuteTime": {
     "end_time": "2020-04-20T09:40:28.840171Z",
     "start_time": "2020-04-20T09:40:28.819280Z"
    }
   },
   "outputs": [],
   "source": [
    "df1 = df_raw.copy()"
   ]
  },
  {
   "cell_type": "markdown",
   "metadata": {
    "ExecuteTime": {
     "end_time": "2020-04-19T21:12:14.373962Z",
     "start_time": "2020-04-19T21:12:14.367094Z"
    }
   },
   "source": [
    "## 1.1. Data Dimensions"
   ]
  },
  {
   "cell_type": "code",
   "execution_count": 4,
   "metadata": {
    "ExecuteTime": {
     "end_time": "2020-04-20T09:40:28.864094Z",
     "start_time": "2020-04-20T09:40:28.852640Z"
    }
   },
   "outputs": [
    {
     "name": "stdout",
     "output_type": "stream",
     "text": [
      "Number of Rows: 99441\n",
      "Number of Cols: 8\n"
     ]
    }
   ],
   "source": [
    "print( 'Number of Rows: {}'.format( df1.shape[0] ) )\n",
    "print( 'Number of Cols: {}'.format( df1.shape[1] ) )"
   ]
  },
  {
   "cell_type": "markdown",
   "metadata": {
    "ExecuteTime": {
     "end_time": "2020-04-19T21:12:14.373962Z",
     "start_time": "2020-04-19T21:12:14.367094Z"
    }
   },
   "source": [
    "## 1.2. Data Type"
   ]
  },
  {
   "cell_type": "code",
   "execution_count": 5,
   "metadata": {
    "ExecuteTime": {
     "end_time": "2020-04-20T09:40:28.955296Z",
     "start_time": "2020-04-20T09:40:28.872911Z"
    }
   },
   "outputs": [
    {
     "data": {
      "text/plain": [
       "order_id                                 object\n",
       "customer_id                              object\n",
       "order_status                             object\n",
       "order_purchase_timestamp         datetime64[ns]\n",
       "order_approved_at                        object\n",
       "order_delivered_carrier_date             object\n",
       "order_delivered_customer_date            object\n",
       "order_estimated_delivery_date            object\n",
       "dtype: object"
      ]
     },
     "execution_count": 5,
     "metadata": {},
     "output_type": "execute_result"
    }
   ],
   "source": [
    "df1['order_purchase_timestamp'] = pd.to_datetime( df1['order_purchase_timestamp'] )\n",
    "df1.dtypes"
   ]
  },
  {
   "cell_type": "markdown",
   "metadata": {
    "ExecuteTime": {
     "end_time": "2020-04-19T21:12:14.373962Z",
     "start_time": "2020-04-19T21:12:14.367094Z"
    }
   },
   "source": [
    "## 1.3. Data Missing"
   ]
  },
  {
   "cell_type": "code",
   "execution_count": 6,
   "metadata": {
    "ExecuteTime": {
     "end_time": "2020-04-20T09:40:29.010150Z",
     "start_time": "2020-04-20T09:40:28.958761Z"
    }
   },
   "outputs": [
    {
     "data": {
      "text/plain": [
       "order_id                            0\n",
       "customer_id                         0\n",
       "order_status                        0\n",
       "order_purchase_timestamp            0\n",
       "order_approved_at                 160\n",
       "order_delivered_carrier_date     1783\n",
       "order_delivered_customer_date    2965\n",
       "order_estimated_delivery_date       0\n",
       "dtype: int64"
      ]
     },
     "execution_count": 6,
     "metadata": {},
     "output_type": "execute_result"
    }
   ],
   "source": [
    "df1.isna().sum()"
   ]
  },
  {
   "cell_type": "markdown",
   "metadata": {},
   "source": [
    "# 2.0. Feature Engineering"
   ]
  },
  {
   "cell_type": "code",
   "execution_count": 7,
   "metadata": {
    "ExecuteTime": {
     "end_time": "2020-04-20T09:40:29.061033Z",
     "start_time": "2020-04-20T09:40:29.024589Z"
    }
   },
   "outputs": [],
   "source": [
    "df2 = df1.copy()"
   ]
  },
  {
   "cell_type": "markdown",
   "metadata": {},
   "source": [
    "## 2.0. Feature Creation"
   ]
  },
  {
   "cell_type": "code",
   "execution_count": 8,
   "metadata": {
    "ExecuteTime": {
     "end_time": "2020-04-20T09:40:29.954617Z",
     "start_time": "2020-04-20T09:40:29.076444Z"
    }
   },
   "outputs": [],
   "source": [
    "df2['order_purchase_year_week'] = df2['order_purchase_timestamp'].dt.strftime( '%Y-%W' )"
   ]
  },
  {
   "cell_type": "markdown",
   "metadata": {},
   "source": [
    "# 3.0. Data Selection"
   ]
  },
  {
   "cell_type": "code",
   "execution_count": 9,
   "metadata": {
    "ExecuteTime": {
     "end_time": "2020-04-20T09:40:30.021387Z",
     "start_time": "2020-04-20T09:40:29.962541Z"
    }
   },
   "outputs": [],
   "source": [
    "df3 = df2.copy()"
   ]
  },
  {
   "cell_type": "code",
   "execution_count": 10,
   "metadata": {
    "ExecuteTime": {
     "end_time": "2020-04-20T09:40:30.034611Z",
     "start_time": "2020-04-20T09:40:30.025649Z"
    }
   },
   "outputs": [
    {
     "data": {
      "text/plain": [
       "Index(['order_id', 'customer_id', 'order_status', 'order_purchase_timestamp',\n",
       "       'order_approved_at', 'order_delivered_carrier_date',\n",
       "       'order_delivered_customer_date', 'order_estimated_delivery_date',\n",
       "       'order_purchase_year_week'],\n",
       "      dtype='object')"
      ]
     },
     "execution_count": 10,
     "metadata": {},
     "output_type": "execute_result"
    }
   ],
   "source": [
    "df3.columns"
   ]
  },
  {
   "cell_type": "code",
   "execution_count": 11,
   "metadata": {
    "ExecuteTime": {
     "end_time": "2020-04-20T09:40:30.068897Z",
     "start_time": "2020-04-20T09:40:30.039720Z"
    }
   },
   "outputs": [],
   "source": [
    "df3 = df3[df3['order_status'] == 'canceled'][['order_id', 'order_purchase_year_week']]"
   ]
  },
  {
   "cell_type": "code",
   "execution_count": 12,
   "metadata": {
    "ExecuteTime": {
     "end_time": "2020-04-20T09:40:30.101117Z",
     "start_time": "2020-04-20T09:40:30.075512Z"
    }
   },
   "outputs": [
    {
     "data": {
      "text/html": [
       "<div>\n",
       "<style scoped>\n",
       "    .dataframe tbody tr th:only-of-type {\n",
       "        vertical-align: middle;\n",
       "    }\n",
       "\n",
       "    .dataframe tbody tr th {\n",
       "        vertical-align: top;\n",
       "    }\n",
       "\n",
       "    .dataframe thead th {\n",
       "        text-align: right;\n",
       "    }\n",
       "</style>\n",
       "<table border=\"1\" class=\"dataframe\">\n",
       "  <thead>\n",
       "    <tr style=\"text-align: right;\">\n",
       "      <th></th>\n",
       "      <th>order_id</th>\n",
       "      <th>order_purchase_year_week</th>\n",
       "    </tr>\n",
       "  </thead>\n",
       "  <tbody>\n",
       "    <tr>\n",
       "      <th>397</th>\n",
       "      <td>1b9ecfe83cdc259250e1a8aca174f0ad</td>\n",
       "      <td>2018-31</td>\n",
       "    </tr>\n",
       "    <tr>\n",
       "      <th>613</th>\n",
       "      <td>714fb133a6730ab81fa1d3c1b2007291</td>\n",
       "      <td>2018-04</td>\n",
       "    </tr>\n",
       "    <tr>\n",
       "      <th>1058</th>\n",
       "      <td>3a129877493c8189c59c60eb71d97c29</td>\n",
       "      <td>2018-04</td>\n",
       "    </tr>\n",
       "    <tr>\n",
       "      <th>1130</th>\n",
       "      <td>00b1cb0320190ca0daa2c88b35206009</td>\n",
       "      <td>2018-35</td>\n",
       "    </tr>\n",
       "    <tr>\n",
       "      <th>1801</th>\n",
       "      <td>ed3efbd3a87bea76c2812c66a0b32219</td>\n",
       "      <td>2018-38</td>\n",
       "    </tr>\n",
       "  </tbody>\n",
       "</table>\n",
       "</div>"
      ],
      "text/plain": [
       "                              order_id order_purchase_year_week\n",
       "397   1b9ecfe83cdc259250e1a8aca174f0ad                  2018-31\n",
       "613   714fb133a6730ab81fa1d3c1b2007291                  2018-04\n",
       "1058  3a129877493c8189c59c60eb71d97c29                  2018-04\n",
       "1130  00b1cb0320190ca0daa2c88b35206009                  2018-35\n",
       "1801  ed3efbd3a87bea76c2812c66a0b32219                  2018-38"
      ]
     },
     "execution_count": 12,
     "metadata": {},
     "output_type": "execute_result"
    }
   ],
   "source": [
    "df3.head()"
   ]
  },
  {
   "cell_type": "markdown",
   "metadata": {},
   "source": [
    "# 4.0. Data Preparation"
   ]
  },
  {
   "cell_type": "code",
   "execution_count": 13,
   "metadata": {
    "ExecuteTime": {
     "end_time": "2020-04-20T09:40:30.110440Z",
     "start_time": "2020-04-20T09:40:30.104472Z"
    }
   },
   "outputs": [],
   "source": [
    "df4 = df3.copy()"
   ]
  },
  {
   "cell_type": "code",
   "execution_count": 14,
   "metadata": {
    "ExecuteTime": {
     "end_time": "2020-04-20T09:40:30.167180Z",
     "start_time": "2020-04-20T09:40:30.149970Z"
    }
   },
   "outputs": [],
   "source": [
    "df4 = df4.groupby( 'order_purchase_year_week' ).count().reset_index()\n",
    "df4 = df4.sort_values( 'order_purchase_year_week' )"
   ]
  },
  {
   "cell_type": "code",
   "execution_count": 15,
   "metadata": {
    "ExecuteTime": {
     "end_time": "2020-04-20T09:40:30.197296Z",
     "start_time": "2020-04-20T09:40:30.186268Z"
    }
   },
   "outputs": [],
   "source": [
    "count_data = np.array( df4['order_id'] )\n",
    "n_count_data = len( count_data )"
   ]
  },
  {
   "cell_type": "code",
   "execution_count": 16,
   "metadata": {
    "ExecuteTime": {
     "end_time": "2020-04-20T09:40:31.002278Z",
     "start_time": "2020-04-20T09:40:30.555625Z"
    }
   },
   "outputs": [
    {
     "data": {
      "image/png": "[encoded data removed]",
      "text/plain": [
       "<Figure size 1296x576 with 1 Axes>"
      ]
     },
     "metadata": {
      "needs_background": "light"
     },
     "output_type": "display_data"
    }
   ],
   "source": [
    "plt.figure( figsize=(18,8) )\n",
    "plt.bar( np.arange( n_count_data ), count_data )\n",
    "plt.xlim( [0, n_count_data ] );"
   ]
  },
  {
   "cell_type": "markdown",
   "metadata": {},
   "source": [
    "# 5.0. Bayesian Inference"
   ]
  },
  {
   "cell_type": "code",
   "execution_count": 62,
   "metadata": {
    "ExecuteTime": {
     "end_time": "2020-04-20T10:28:54.467538Z",
     "start_time": "2020-04-20T10:27:48.907893Z"
    }
   },
   "outputs": [
    {
     "name": "stderr",
     "output_type": "stream",
     "text": [
      "Multiprocess sampling (2 chains in 2 jobs)\n",
      "CompoundStep\n",
      ">Metropolis: [tau]\n",
      ">Metropolis: [lambda_02]\n",
      ">Metropolis: [lambda_01]\n",
      "Sampling 2 chains, 0 divergences: 100%|██████████| 30000/30000 [00:41<00:00, 731.13draws/s]\n",
      "The number of effective samples is smaller than 25% for some parameters.\n"
     ]
    }
   ],
   "source": [
    "with pm.Model() as model:\n",
    "    # Prior\n",
    "    alpha = 1.0 / count_data.mean()\n",
    "    lambda_01 = pm.Exponential( 'lambda_01', alpha )\n",
    "    lambda_02 = pm.Exponential( 'lambda_02', alpha ) \n",
    "\n",
    "    tau = pm.DiscreteUniform( 'tau', lower=0, upper=n_count_data-1 )\n",
    "\n",
    "\n",
    "    # Posterior\n",
    "    idx = np.arange( n_count_data )\n",
    "    lambda_ = pm.math.switch( tau >  idx, lambda_01, lambda_02 )\n",
    "    obs = pm.Poisson( 'obs', lambda_, observed=count_data )\n",
    "\n",
    "    # Likelihood\n",
    "    trace = pm.sample( draws=10000, tune=5000, step=pm.Metropolis() )"
   ]
  },
  {
   "cell_type": "code",
   "execution_count": 73,
   "metadata": {
    "ExecuteTime": {
     "end_time": "2020-04-20T10:34:16.097869Z",
     "start_time": "2020-04-20T10:34:14.134356Z"
    }
   },
   "outputs": [
    {
     "data": {
      "image/png": "[encoded data removed]",
      "text/plain": [
       "<Figure size 1296x720 with 3 Axes>"
      ]
     },
     "metadata": {
      "needs_background": "light"
     },
     "output_type": "display_data"
    }
   ],
   "source": [
    "# posterior\n",
    "plt.figure( figsize=(18, 10) )\n",
    "\n",
    "plt.subplot( 311 )\n",
    "plt.hist( trace['lambda_01'], histtype='stepfilled', bins=30, density=True );\n",
    "plt.xlim( [0, 15 ] );\n",
    "\n",
    "plt.subplot( 312 )\n",
    "plt.hist( trace['lambda_02'], histtype='stepfilled', bins=30, density=True );\n",
    "plt.xlim( [0, 15 ] );\n",
    "\n",
    "plt.subplot( 313 )\n",
    "w = 1.0 / trace['tau'].shape[0] * np.ones_like( trace['tau'] )\n",
    "plt.hist( trace['tau'], bins=n_count_data, weights=w, rwidth=2. );\n",
    "plt.xlim( [40, n_count_data-30 ] );"
   ]
  },
  {
   "cell_type": "code",
   "execution_count": 65,
   "metadata": {
    "ExecuteTime": {
     "end_time": "2020-04-20T10:29:40.831935Z",
     "start_time": "2020-04-20T10:29:40.785185Z"
    }
   },
   "outputs": [
    {
     "data": {
      "text/plain": [
       "5.096977740102558"
      ]
     },
     "execution_count": 65,
     "metadata": {},
     "output_type": "execute_result"
    }
   ],
   "source": [
    "trace['lambda_01'].mean()"
   ]
  },
  {
   "cell_type": "code",
   "execution_count": 67,
   "metadata": {
    "ExecuteTime": {
     "end_time": "2020-04-20T10:30:32.623741Z",
     "start_time": "2020-04-20T10:30:32.596658Z"
    }
   },
   "outputs": [
    {
     "data": {
      "text/plain": [
       "8.639950531948585"
      ]
     },
     "execution_count": 67,
     "metadata": {},
     "output_type": "execute_result"
    }
   ],
   "source": [
    "trace['lambda_02'].mean()"
   ]
  },
  {
   "cell_type": "code",
   "execution_count": 77,
   "metadata": {
    "ExecuteTime": {
     "end_time": "2020-04-20T10:39:24.778965Z",
     "start_time": "2020-04-20T10:39:24.043838Z"
    }
   },
   "outputs": [
    {
     "data": {
      "image/png": "[encoded data removed]",
      "text/plain": [
       "<Figure size 1296x720 with 1 Axes>"
      ]
     },
     "metadata": {
      "needs_background": "light"
     },
     "output_type": "display_data"
    }
   ],
   "source": [
    "plt.figure( figsize=(18,10) )\n",
    "# Behaviour plot\n",
    "canceled_by_day = np.zeros( n_count_data )\n",
    "for day in range( 0, n_count_data ):\n",
    "    ix = day < trace['tau']\n",
    "    canceled_by_day[day] = ( trace['lambda_01'][ix].sum() + trace['lambda_02'][~ix].sum() ) / trace['tau'].shape[0]\n",
    "    \n",
    "# plots \n",
    "plt.plot( range( n_count_data ), canceled_by_day, color='red' )\n",
    "plt.ylim( [0, 30] )\n",
    "\n",
    "plt.bar( np.arange( n_count_data ), count_data )\n",
    "plt.xlim( [0, n_count_data ] );"
   ]
  },
  {
   "cell_type": "code",
   "execution_count": null,
   "metadata": {},
   "outputs": [],
   "source": []
  },
  {
   "cell_type": "code",
   "execution_count": null,
   "metadata": {},
   "outputs": [],
   "source": []
  },
  {
   "cell_type": "code",
   "execution_count": null,
   "metadata": {},
   "outputs": [],
   "source": []
  },
  {
   "cell_type": "code",
   "execution_count": null,
   "metadata": {},
   "outputs": [],
   "source": []
  },
  {
   "cell_type": "code",
   "execution_count": null,
   "metadata": {},
   "outputs": [],
   "source": []
  },
  {
   "cell_type": "code",
   "execution_count": null,
   "metadata": {},
   "outputs": [],
   "source": []
  },
  {
   "cell_type": "code",
   "execution_count": null,
   "metadata": {},
   "outputs": [],
   "source": []
  },
  {
   "cell_type": "code",
   "execution_count": null,
   "metadata": {},
   "outputs": [],
   "source": []
  }
 ],
 "metadata": {
  "kernelspec": {
   "display_name": "Python 3",
   "language": "python",
   "name": "python3"
  },
  "language_info": {
   "codemirror_mode": {
    "name": "ipython",
    "version": 3
   },
   "file_extension": ".py",
   "mimetype": "text/x-python",
   "name": "python",
   "nbconvert_exporter": "python",
   "pygments_lexer": "ipython3",
   "version": "3.8.0"
  }
 },
 "nbformat": 4,
 "nbformat_minor": 4
}
