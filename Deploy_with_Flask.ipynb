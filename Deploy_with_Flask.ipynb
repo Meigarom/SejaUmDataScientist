{
 "cells": [
  {
   "cell_type": "markdown",
   "metadata": {},
   "source": [
    "# 0.0. Imports"
   ]
  },
  {
   "cell_type": "code",
   "execution_count": 1,
   "metadata": {
    "ExecuteTime": {
     "end_time": "2020-05-03T11:43:44.517731Z",
     "start_time": "2020-05-03T11:43:41.341875Z"
    }
   },
   "outputs": [],
   "source": [
    "import requests\n",
    "import pandas as pd\n",
    "import numpy  as np\n",
    "import pickle\n",
    "import seaborn as sns\n",
    "\n",
    "from sklearn.model_selection import train_test_split\n",
    "from sklearn.linear_model    import ElasticNet\n",
    "from sklearn.metrics         import mean_squared_error, mean_absolute_error, r2_score\n",
    "from sklearn.preprocessing   import MinMaxScaler"
   ]
  },
  {
   "cell_type": "markdown",
   "metadata": {},
   "source": [
    "## 0.1. Loading Data"
   ]
  },
  {
   "cell_type": "code",
   "execution_count": 2,
   "metadata": {
    "ExecuteTime": {
     "end_time": "2020-05-03T11:43:45.649749Z",
     "start_time": "2020-05-03T11:43:44.549364Z"
    }
   },
   "outputs": [],
   "source": [
    "csv_url = 'http://archive.ics.uci.edu/ml/machine-learning-databases/wine-quality/winequality-red.csv'\n",
    "df_raw = pd.read_csv( csv_url, sep=';' )"
   ]
  },
  {
   "cell_type": "markdown",
   "metadata": {},
   "source": [
    "# 1.0. Data Preparation"
   ]
  },
  {
   "cell_type": "code",
   "execution_count": 3,
   "metadata": {
    "ExecuteTime": {
     "end_time": "2020-05-03T11:43:45.754089Z",
     "start_time": "2020-05-03T11:43:45.728717Z"
    }
   },
   "outputs": [],
   "source": [
    "df1 = df_raw.copy()"
   ]
  },
  {
   "cell_type": "markdown",
   "metadata": {},
   "source": [
    "## 1.1. Rescaling"
   ]
  },
  {
   "cell_type": "code",
   "execution_count": 4,
   "metadata": {
    "ExecuteTime": {
     "end_time": "2020-05-03T11:43:45.781535Z",
     "start_time": "2020-05-03T11:43:45.758641Z"
    }
   },
   "outputs": [],
   "source": [
    "# min max scaler\n",
    "# x_new = ( x_old - min() ) / ( max - min )\n",
    "mms = MinMaxScaler()"
   ]
  },
  {
   "cell_type": "code",
   "execution_count": 5,
   "metadata": {
    "ExecuteTime": {
     "end_time": "2020-05-03T11:43:45.822468Z",
     "start_time": "2020-05-03T11:43:45.790829Z"
    }
   },
   "outputs": [],
   "source": [
    "# free sulfur dioxide\n",
    "df1['free sulfur dioxide'] = mms.fit_transform( df1[['free sulfur dioxide']].values )\n",
    "pickle.dump( mms, open( '/Users/meigarom/repos/SejaUmDataScientist/deploy/free_sulfur_scaler.pkl', 'wb' ))\n",
    "\n",
    "# total sulfur dioxide\n",
    "df1['total sulfur dioxide'] = np.log1p( df1['total sulfur dioxide'] )\n",
    "df1['total sulfur dioxide'] = mms.fit_transform( df1[['total sulfur dioxide']].values )\n",
    "pickle.dump( mms, open( '/Users/meigarom/repos/SejaUmDataScientist/deploy/total_sulfur_scaler.pkl', 'wb' ))"
   ]
  },
  {
   "cell_type": "code",
   "execution_count": 6,
   "metadata": {
    "ExecuteTime": {
     "end_time": "2020-05-03T11:43:45.852548Z",
     "start_time": "2020-05-03T11:43:45.836569Z"
    }
   },
   "outputs": [],
   "source": [
    "train, test = train_test_split( df1 ) #75% e 25% test"
   ]
  },
  {
   "cell_type": "code",
   "execution_count": 7,
   "metadata": {
    "ExecuteTime": {
     "end_time": "2020-05-03T11:43:45.944711Z",
     "start_time": "2020-05-03T11:43:45.860053Z"
    }
   },
   "outputs": [],
   "source": [
    "# train and test dataset\n",
    "x_train = train.drop( 'quality', axis=1 )\n",
    "y_train = train['quality']\n",
    "\n",
    "x_test = test.drop( 'quality', axis=1 )\n",
    "y_test = test['quality']"
   ]
  },
  {
   "cell_type": "markdown",
   "metadata": {},
   "source": [
    "# 2.0. ML Modelling"
   ]
  },
  {
   "cell_type": "code",
   "execution_count": 8,
   "metadata": {
    "ExecuteTime": {
     "end_time": "2020-05-03T11:43:46.085071Z",
     "start_time": "2020-05-03T11:43:46.077878Z"
    }
   },
   "outputs": [],
   "source": [
    "# model definition\n",
    "model = ElasticNet( alpha=0.5, l1_ratio=0.5, random_state=42 )"
   ]
  },
  {
   "cell_type": "code",
   "execution_count": 9,
   "metadata": {
    "ExecuteTime": {
     "end_time": "2020-05-03T11:43:46.129150Z",
     "start_time": "2020-05-03T11:43:46.091693Z"
    }
   },
   "outputs": [
    {
     "data": {
      "text/plain": [
       "ElasticNet(alpha=0.5, copy_X=True, fit_intercept=True, l1_ratio=0.5,\n",
       "           max_iter=1000, normalize=False, positive=False, precompute=False,\n",
       "           random_state=42, selection='cyclic', tol=0.0001, warm_start=False)"
      ]
     },
     "execution_count": 9,
     "metadata": {},
     "output_type": "execute_result"
    }
   ],
   "source": [
    "# training\n",
    "model.fit( x_train, y_train )"
   ]
  },
  {
   "cell_type": "code",
   "execution_count": 10,
   "metadata": {
    "ExecuteTime": {
     "end_time": "2020-05-03T11:43:46.165112Z",
     "start_time": "2020-05-03T11:43:46.137759Z"
    }
   },
   "outputs": [],
   "source": [
    "# prediction\n",
    "pred = model.predict( x_test )"
   ]
  },
  {
   "cell_type": "code",
   "execution_count": 11,
   "metadata": {
    "ExecuteTime": {
     "end_time": "2020-05-03T11:43:46.229978Z",
     "start_time": "2020-05-03T11:43:46.207993Z"
    }
   },
   "outputs": [],
   "source": [
    "rmse = np.sqrt( mean_squared_error( y_test, pred ))\n",
    "mae = mean_absolute_error( y_test, pred )\n",
    "r2  = r2_score( y_test, pred )"
   ]
  },
  {
   "cell_type": "code",
   "execution_count": 12,
   "metadata": {
    "ExecuteTime": {
     "end_time": "2020-05-03T11:43:46.253785Z",
     "start_time": "2020-05-03T11:43:46.245277Z"
    }
   },
   "outputs": [
    {
     "name": "stdout",
     "output_type": "stream",
     "text": [
      "RMSE: 0.7624371623577465\n",
      "MAE: 0.6315322325060694\n",
      "R2: 0.11445508233701251\n"
     ]
    }
   ],
   "source": [
    "print( 'RMSE: {}'.format( rmse ) )\n",
    "print( 'MAE: {}'.format( mae ) )\n",
    "print( 'R2: {}'.format( r2 ))"
   ]
  },
  {
   "cell_type": "code",
   "execution_count": 13,
   "metadata": {
    "ExecuteTime": {
     "end_time": "2020-05-03T11:43:46.283941Z",
     "start_time": "2020-05-03T11:43:46.270015Z"
    }
   },
   "outputs": [],
   "source": [
    "# save trained model\n",
    "pickle.dump( model, open( '/Users/meigarom/repos/SejaUmDataScientist/deploy/model_wine_quality.pkl', 'wb' ) )"
   ]
  },
  {
   "cell_type": "code",
   "execution_count": 14,
   "metadata": {
    "ExecuteTime": {
     "end_time": "2020-05-03T11:43:46.491242Z",
     "start_time": "2020-05-03T11:43:46.303398Z"
    }
   },
   "outputs": [
    {
     "name": "stdout",
     "output_type": "stream",
     "text": [
      "\u001b[34m__pycache__\u001b[m\u001b[m             handler.py              total_sulfur_scaler.pkl\r\n",
      "free_sulfur_scaler.pkl  model_wine_quality.pkl  wine_quality.py\r\n"
     ]
    }
   ],
   "source": [
    "!ls deploy"
   ]
  },
  {
   "cell_type": "code",
   "execution_count": null,
   "metadata": {},
   "outputs": [],
   "source": []
  },
  {
   "cell_type": "markdown",
   "metadata": {},
   "source": [
    "# 5.0. Prediction "
   ]
  },
  {
   "cell_type": "code",
   "execution_count": 15,
   "metadata": {
    "ExecuteTime": {
     "end_time": "2020-05-03T11:43:46.522916Z",
     "start_time": "2020-05-03T11:43:46.498370Z"
    }
   },
   "outputs": [],
   "source": [
    "df = df_raw.drop( 'quality', axis=1 ).sample()"
   ]
  },
  {
   "cell_type": "code",
   "execution_count": 16,
   "metadata": {
    "ExecuteTime": {
     "end_time": "2020-05-03T11:43:46.582630Z",
     "start_time": "2020-05-03T11:43:46.531571Z"
    }
   },
   "outputs": [
    {
     "data": {
      "text/html": [
       "<div>\n",
       "<style scoped>\n",
       "    .dataframe tbody tr th:only-of-type {\n",
       "        vertical-align: middle;\n",
       "    }\n",
       "\n",
       "    .dataframe tbody tr th {\n",
       "        vertical-align: top;\n",
       "    }\n",
       "\n",
       "    .dataframe thead th {\n",
       "        text-align: right;\n",
       "    }\n",
       "</style>\n",
       "<table border=\"1\" class=\"dataframe\">\n",
       "  <thead>\n",
       "    <tr style=\"text-align: right;\">\n",
       "      <th></th>\n",
       "      <th>fixed acidity</th>\n",
       "      <th>volatile acidity</th>\n",
       "      <th>citric acid</th>\n",
       "      <th>residual sugar</th>\n",
       "      <th>chlorides</th>\n",
       "      <th>free sulfur dioxide</th>\n",
       "      <th>total sulfur dioxide</th>\n",
       "      <th>density</th>\n",
       "      <th>pH</th>\n",
       "      <th>sulphates</th>\n",
       "      <th>alcohol</th>\n",
       "    </tr>\n",
       "  </thead>\n",
       "  <tbody>\n",
       "    <tr>\n",
       "      <th>217</th>\n",
       "      <td>8.1</td>\n",
       "      <td>0.725</td>\n",
       "      <td>0.22</td>\n",
       "      <td>2.2</td>\n",
       "      <td>0.072</td>\n",
       "      <td>11.0</td>\n",
       "      <td>41.0</td>\n",
       "      <td>0.9967</td>\n",
       "      <td>3.36</td>\n",
       "      <td>0.55</td>\n",
       "      <td>9.1</td>\n",
       "    </tr>\n",
       "  </tbody>\n",
       "</table>\n",
       "</div>"
      ],
      "text/plain": [
       "     fixed acidity  volatile acidity  citric acid  residual sugar  chlorides  \\\n",
       "217            8.1             0.725         0.22             2.2      0.072   \n",
       "\n",
       "     free sulfur dioxide  total sulfur dioxide  density    pH  sulphates  \\\n",
       "217                 11.0                  41.0   0.9967  3.36       0.55   \n",
       "\n",
       "     alcohol  \n",
       "217      9.1  "
      ]
     },
     "execution_count": 16,
     "metadata": {},
     "output_type": "execute_result"
    }
   ],
   "source": [
    "df"
   ]
  },
  {
   "cell_type": "code",
   "execution_count": 26,
   "metadata": {
    "ExecuteTime": {
     "end_time": "2020-05-03T11:44:39.727364Z",
     "start_time": "2020-05-03T11:44:39.718393Z"
    }
   },
   "outputs": [],
   "source": [
    "df_json = df.to_json( orient='records' )"
   ]
  },
  {
   "cell_type": "code",
   "execution_count": 27,
   "metadata": {
    "ExecuteTime": {
     "end_time": "2020-05-03T11:44:39.946110Z",
     "start_time": "2020-05-03T11:44:39.913467Z"
    }
   },
   "outputs": [],
   "source": [
    "url = 'http://0.0.0.0:5000/predict'\n",
    "data = df_json\n",
    "header = {'Content-type': 'application/json'}\n",
    "\n",
    "# Request\n",
    "r = requests.post( url=url, data=data, headers=header )"
   ]
  },
  {
   "cell_type": "code",
   "execution_count": 28,
   "metadata": {
    "ExecuteTime": {
     "end_time": "2020-05-03T11:44:40.105694Z",
     "start_time": "2020-05-03T11:44:40.077236Z"
    }
   },
   "outputs": [
    {
     "data": {
      "text/html": [
       "<div>\n",
       "<style scoped>\n",
       "    .dataframe tbody tr th:only-of-type {\n",
       "        vertical-align: middle;\n",
       "    }\n",
       "\n",
       "    .dataframe tbody tr th {\n",
       "        vertical-align: top;\n",
       "    }\n",
       "\n",
       "    .dataframe thead th {\n",
       "        text-align: right;\n",
       "    }\n",
       "</style>\n",
       "<table border=\"1\" class=\"dataframe\">\n",
       "  <thead>\n",
       "    <tr style=\"text-align: right;\">\n",
       "      <th></th>\n",
       "      <th>fixed acidity</th>\n",
       "      <th>volatile acidity</th>\n",
       "      <th>citric acid</th>\n",
       "      <th>residual sugar</th>\n",
       "      <th>chlorides</th>\n",
       "      <th>free sulfur dioxide</th>\n",
       "      <th>total sulfur dioxide</th>\n",
       "      <th>density</th>\n",
       "      <th>pH</th>\n",
       "      <th>sulphates</th>\n",
       "      <th>alcohol</th>\n",
       "      <th>prediction</th>\n",
       "    </tr>\n",
       "  </thead>\n",
       "  <tbody>\n",
       "    <tr>\n",
       "      <th>0</th>\n",
       "      <td>8.1</td>\n",
       "      <td>0.725</td>\n",
       "      <td>0.22</td>\n",
       "      <td>2.2</td>\n",
       "      <td>0.072</td>\n",
       "      <td>0.140845</td>\n",
       "      <td>10.487217</td>\n",
       "      <td>0.9967</td>\n",
       "      <td>3.36</td>\n",
       "      <td>0.55</td>\n",
       "      <td>9.1</td>\n",
       "      <td>5.495551</td>\n",
       "    </tr>\n",
       "  </tbody>\n",
       "</table>\n",
       "</div>"
      ],
      "text/plain": [
       "   fixed acidity  volatile acidity  citric acid  residual sugar  chlorides  \\\n",
       "0            8.1             0.725         0.22             2.2      0.072   \n",
       "\n",
       "   free sulfur dioxide  total sulfur dioxide  density    pH  sulphates  \\\n",
       "0             0.140845             10.487217   0.9967  3.36       0.55   \n",
       "\n",
       "   alcohol  prediction  \n",
       "0      9.1    5.495551  "
      ]
     },
     "execution_count": 28,
     "metadata": {},
     "output_type": "execute_result"
    }
   ],
   "source": [
    "pd.DataFrame( r.json(), columns=r.json()[0].keys() )"
   ]
  },
  {
   "cell_type": "code",
   "execution_count": null,
   "metadata": {},
   "outputs": [],
   "source": []
  },
  {
   "cell_type": "markdown",
   "metadata": {},
   "source": [
    "## Class In Production"
   ]
  },
  {
   "cell_type": "code",
   "execution_count": 17,
   "metadata": {
    "ExecuteTime": {
     "end_time": "2020-05-03T11:32:31.777334Z",
     "start_time": "2020-05-03T11:32:31.752563Z"
    }
   },
   "outputs": [],
   "source": [
    "import pickle \n",
    "\n",
    "class WineQuality( object ):\n",
    "    def __init__( self ):\n",
    "        self.free_sulfur_scaler = pickle.load( open( '/Users/meigarom/repos/SejaUmDataScientist/deploy/free_sulfur_scaler.pkl', 'rb'))\n",
    "        self.total_sulfur_scaler = pickle.load( open( '/Users/meigarom/repos/SejaUmDataScientist/deploy/total_sulfur_scaler.pkl', 'rb'))\n",
    "        \n",
    "    \n",
    "    def data_preparation( self, df ):\n",
    "        # rescaling free sulfur\n",
    "        df['free sulfur dioxide'] = self.free_sulfur_scaler.transform( df['free sulfur dioxide'] )\n",
    "        \n",
    "        # rescaling total sulfur\n",
    "        df['total sulfur dioxide'] = self.total_sulfur_scaler.transform( df['total sulfur dioxide'] )\n",
    "        \n",
    "        return df"
   ]
  },
  {
   "cell_type": "code",
   "execution_count": null,
   "metadata": {},
   "outputs": [],
   "source": []
  },
  {
   "cell_type": "code",
   "execution_count": null,
   "metadata": {},
   "outputs": [],
   "source": []
  },
  {
   "cell_type": "code",
   "execution_count": null,
   "metadata": {},
   "outputs": [],
   "source": []
  },
  {
   "cell_type": "code",
   "execution_count": null,
   "metadata": {},
   "outputs": [],
   "source": []
  },
  {
   "cell_type": "code",
   "execution_count": null,
   "metadata": {},
   "outputs": [],
   "source": []
  }
 ],
 "metadata": {
  "kernelspec": {
   "display_name": "Python 3",
   "language": "python",
   "name": "python3"
  },
  "language_info": {
   "codemirror_mode": {
    "name": "ipython",
    "version": 3
   },
   "file_extension": ".py",
   "mimetype": "text/x-python",
   "name": "python",
   "nbconvert_exporter": "python",
   "pygments_lexer": "ipython3",
   "version": "3.8.0"
  }
 },
 "nbformat": 4,
 "nbformat_minor": 4
}
