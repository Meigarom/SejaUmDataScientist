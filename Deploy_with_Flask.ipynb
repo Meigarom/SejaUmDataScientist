{
 "cells": [
  {
   "cell_type": "markdown",
   "metadata": {},
   "source": [
    "# 0.0. Imports"
   ]
  },
  {
   "cell_type": "code",
   "execution_count": 48,
   "metadata": {
    "ExecuteTime": {
     "end_time": "2020-04-29T10:22:24.471474Z",
     "start_time": "2020-04-29T10:22:24.231947Z"
    }
   },
   "outputs": [],
   "source": [
    "import requests\n",
    "import pandas as pd\n",
    "import numpy  as np\n",
    "import pickle\n",
    "\n",
    "from sklearn.model_selection import train_test_split\n",
    "from sklearn.linear_model    import ElasticNet\n",
    "from sklearn.metrics         import mean_squared_error, mean_absolute_error, r2_score"
   ]
  },
  {
   "cell_type": "markdown",
   "metadata": {},
   "source": [
    "## 0.1. Loading Data"
   ]
  },
  {
   "cell_type": "code",
   "execution_count": 10,
   "metadata": {
    "ExecuteTime": {
     "end_time": "2020-04-26T12:27:31.235334Z",
     "start_time": "2020-04-26T12:27:30.438268Z"
    }
   },
   "outputs": [],
   "source": [
    "csv_url = 'http://archive.ics.uci.edu/ml/machine-learning-databases/wine-quality/winequality-red.csv'\n",
    "df_raw = pd.read_csv( csv_url, sep=';' )"
   ]
  },
  {
   "cell_type": "markdown",
   "metadata": {},
   "source": [
    "# 1.0. Data Preparation"
   ]
  },
  {
   "cell_type": "code",
   "execution_count": 11,
   "metadata": {
    "ExecuteTime": {
     "end_time": "2020-04-26T12:27:31.272502Z",
     "start_time": "2020-04-26T12:27:31.239522Z"
    }
   },
   "outputs": [],
   "source": [
    "df1 = df_raw.copy()"
   ]
  },
  {
   "cell_type": "code",
   "execution_count": 12,
   "metadata": {
    "ExecuteTime": {
     "end_time": "2020-04-26T12:27:31.391024Z",
     "start_time": "2020-04-26T12:27:31.334275Z"
    }
   },
   "outputs": [],
   "source": [
    "train, test = train_test_split( df1 ) #75% e 25% test"
   ]
  },
  {
   "cell_type": "code",
   "execution_count": 13,
   "metadata": {
    "ExecuteTime": {
     "end_time": "2020-04-26T12:28:28.003647Z",
     "start_time": "2020-04-26T12:28:27.924994Z"
    }
   },
   "outputs": [],
   "source": [
    "# train and test dataset\n",
    "x_train = train.drop( 'quality', axis=1 )\n",
    "y_train = train['quality']\n",
    "\n",
    "x_test = test.drop( 'quality', axis=1 )\n",
    "y_test = test['quality']"
   ]
  },
  {
   "cell_type": "markdown",
   "metadata": {},
   "source": [
    "# 2.0. ML Modelling"
   ]
  },
  {
   "cell_type": "code",
   "execution_count": 21,
   "metadata": {
    "ExecuteTime": {
     "end_time": "2020-04-26T12:30:47.396179Z",
     "start_time": "2020-04-26T12:30:47.376465Z"
    }
   },
   "outputs": [],
   "source": [
    "# model definition\n",
    "model = ElasticNet( alpha=0.5, l1_ratio=0.5, random_state=42 )"
   ]
  },
  {
   "cell_type": "code",
   "execution_count": 22,
   "metadata": {
    "ExecuteTime": {
     "end_time": "2020-04-26T12:31:00.853717Z",
     "start_time": "2020-04-26T12:31:00.796541Z"
    }
   },
   "outputs": [
    {
     "data": {
      "text/plain": [
       "ElasticNet(alpha=0.5, copy_X=True, fit_intercept=True, l1_ratio=0.5,\n",
       "           max_iter=1000, normalize=False, positive=False, precompute=False,\n",
       "           random_state=42, selection='cyclic', tol=0.0001, warm_start=False)"
      ]
     },
     "execution_count": 22,
     "metadata": {},
     "output_type": "execute_result"
    }
   ],
   "source": [
    "# training\n",
    "model.fit( x_train, y_train )"
   ]
  },
  {
   "cell_type": "code",
   "execution_count": 24,
   "metadata": {
    "ExecuteTime": {
     "end_time": "2020-04-26T12:32:22.616403Z",
     "start_time": "2020-04-26T12:32:22.607825Z"
    }
   },
   "outputs": [],
   "source": [
    "# prediction\n",
    "pred = model.predict( x_test )"
   ]
  },
  {
   "cell_type": "code",
   "execution_count": 28,
   "metadata": {
    "ExecuteTime": {
     "end_time": "2020-04-26T12:34:30.346382Z",
     "start_time": "2020-04-26T12:34:30.322249Z"
    }
   },
   "outputs": [],
   "source": [
    "rmse = np.sqrt( mean_squared_error( y_test, pred ))\n",
    "mae = mean_absolute_error( y_test, pred )\n",
    "r2  = r2_score( y_test, pred )"
   ]
  },
  {
   "cell_type": "code",
   "execution_count": 29,
   "metadata": {
    "ExecuteTime": {
     "end_time": "2020-04-26T12:34:31.026726Z",
     "start_time": "2020-04-26T12:34:30.991184Z"
    }
   },
   "outputs": [
    {
     "name": "stdout",
     "output_type": "stream",
     "text": [
      "RMSE: 0.7662253029095459\n",
      "MAE: 0.6191837511265321\n",
      "R2: 0.12398285597437231\n"
     ]
    }
   ],
   "source": [
    "print( 'RMSE: {}'.format( rmse ) )\n",
    "print( 'MAE: {}'.format( mae ) )\n",
    "print( 'R2: {}'.format( r2 ))"
   ]
  },
  {
   "cell_type": "code",
   "execution_count": 30,
   "metadata": {
    "ExecuteTime": {
     "end_time": "2020-04-26T12:35:11.587705Z",
     "start_time": "2020-04-26T12:35:11.414268Z"
    }
   },
   "outputs": [
    {
     "name": "stdout",
     "output_type": "stream",
     "text": [
      "/Users/meigarom/repos/SejaUmDataScientist\r\n"
     ]
    }
   ],
   "source": [
    "!pwd"
   ]
  },
  {
   "cell_type": "code",
   "execution_count": 37,
   "metadata": {
    "ExecuteTime": {
     "end_time": "2020-04-26T12:36:23.230836Z",
     "start_time": "2020-04-26T12:36:23.218204Z"
    }
   },
   "outputs": [],
   "source": [
    "# save trained model\n",
    "pickle.dump( model, open( '/Users/meigarom/repos/SejaUmDataScientist/deploy/model_wine_quality.pkl', 'wb' ) )"
   ]
  },
  {
   "cell_type": "code",
   "execution_count": 38,
   "metadata": {
    "ExecuteTime": {
     "end_time": "2020-04-26T12:36:35.018173Z",
     "start_time": "2020-04-26T12:36:34.861495Z"
    }
   },
   "outputs": [
    {
     "name": "stdout",
     "output_type": "stream",
     "text": [
      "model_wine_quality     model_wine_quality.pkl\r\n"
     ]
    }
   ],
   "source": [
    "!ls deploy"
   ]
  },
  {
   "cell_type": "code",
   "execution_count": null,
   "metadata": {},
   "outputs": [],
   "source": []
  },
  {
   "cell_type": "markdown",
   "metadata": {},
   "source": [
    "# 5.0. Prediction "
   ]
  },
  {
   "cell_type": "code",
   "execution_count": 83,
   "metadata": {
    "ExecuteTime": {
     "end_time": "2020-04-29T10:35:12.580144Z",
     "start_time": "2020-04-29T10:35:12.566780Z"
    }
   },
   "outputs": [],
   "source": [
    "df = df1.drop( 'quality', axis=1 ).sample()"
   ]
  },
  {
   "cell_type": "code",
   "execution_count": 84,
   "metadata": {
    "ExecuteTime": {
     "end_time": "2020-04-29T10:35:12.814104Z",
     "start_time": "2020-04-29T10:35:12.778554Z"
    }
   },
   "outputs": [
    {
     "data": {
      "text/html": [
       "<div>\n",
       "<style scoped>\n",
       "    .dataframe tbody tr th:only-of-type {\n",
       "        vertical-align: middle;\n",
       "    }\n",
       "\n",
       "    .dataframe tbody tr th {\n",
       "        vertical-align: top;\n",
       "    }\n",
       "\n",
       "    .dataframe thead th {\n",
       "        text-align: right;\n",
       "    }\n",
       "</style>\n",
       "<table border=\"1\" class=\"dataframe\">\n",
       "  <thead>\n",
       "    <tr style=\"text-align: right;\">\n",
       "      <th></th>\n",
       "      <th>fixed acidity</th>\n",
       "      <th>volatile acidity</th>\n",
       "      <th>citric acid</th>\n",
       "      <th>residual sugar</th>\n",
       "      <th>chlorides</th>\n",
       "      <th>free sulfur dioxide</th>\n",
       "      <th>total sulfur dioxide</th>\n",
       "      <th>density</th>\n",
       "      <th>pH</th>\n",
       "      <th>sulphates</th>\n",
       "      <th>alcohol</th>\n",
       "    </tr>\n",
       "  </thead>\n",
       "  <tbody>\n",
       "    <tr>\n",
       "      <th>741</th>\n",
       "      <td>9.2</td>\n",
       "      <td>0.53</td>\n",
       "      <td>0.24</td>\n",
       "      <td>2.6</td>\n",
       "      <td>0.078</td>\n",
       "      <td>28.0</td>\n",
       "      <td>139.0</td>\n",
       "      <td>0.99788</td>\n",
       "      <td>3.21</td>\n",
       "      <td>0.57</td>\n",
       "      <td>9.5</td>\n",
       "    </tr>\n",
       "  </tbody>\n",
       "</table>\n",
       "</div>"
      ],
      "text/plain": [
       "     fixed acidity  volatile acidity  citric acid  residual sugar  chlorides  \\\n",
       "741            9.2              0.53         0.24             2.6      0.078   \n",
       "\n",
       "     free sulfur dioxide  total sulfur dioxide  density    pH  sulphates  \\\n",
       "741                 28.0                 139.0  0.99788  3.21       0.57   \n",
       "\n",
       "     alcohol  \n",
       "741      9.5  "
      ]
     },
     "execution_count": 84,
     "metadata": {},
     "output_type": "execute_result"
    }
   ],
   "source": [
    "df"
   ]
  },
  {
   "cell_type": "code",
   "execution_count": 85,
   "metadata": {
    "ExecuteTime": {
     "end_time": "2020-04-29T10:35:12.951343Z",
     "start_time": "2020-04-29T10:35:12.944955Z"
    }
   },
   "outputs": [],
   "source": [
    "df_json = df.to_json( orient='records' )"
   ]
  },
  {
   "cell_type": "code",
   "execution_count": 86,
   "metadata": {
    "ExecuteTime": {
     "end_time": "2020-04-29T10:35:13.114428Z",
     "start_time": "2020-04-29T10:35:13.072891Z"
    }
   },
   "outputs": [],
   "source": [
    "url = 'http://0.0.0.0:5000/predict'\n",
    "data = df_json\n",
    "header = {'Content-type': 'application/json'}\n",
    "\n",
    "# Request\n",
    "r = requests.post( url=url, data=data, headers=header )"
   ]
  },
  {
   "cell_type": "code",
   "execution_count": 87,
   "metadata": {
    "ExecuteTime": {
     "end_time": "2020-04-29T10:35:13.522340Z",
     "start_time": "2020-04-29T10:35:13.469106Z"
    }
   },
   "outputs": [
    {
     "data": {
      "text/html": [
       "<div>\n",
       "<style scoped>\n",
       "    .dataframe tbody tr th:only-of-type {\n",
       "        vertical-align: middle;\n",
       "    }\n",
       "\n",
       "    .dataframe tbody tr th {\n",
       "        vertical-align: top;\n",
       "    }\n",
       "\n",
       "    .dataframe thead th {\n",
       "        text-align: right;\n",
       "    }\n",
       "</style>\n",
       "<table border=\"1\" class=\"dataframe\">\n",
       "  <thead>\n",
       "    <tr style=\"text-align: right;\">\n",
       "      <th></th>\n",
       "      <th>fixed acidity</th>\n",
       "      <th>volatile acidity</th>\n",
       "      <th>citric acid</th>\n",
       "      <th>residual sugar</th>\n",
       "      <th>chlorides</th>\n",
       "      <th>free sulfur dioxide</th>\n",
       "      <th>total sulfur dioxide</th>\n",
       "      <th>density</th>\n",
       "      <th>pH</th>\n",
       "      <th>sulphates</th>\n",
       "      <th>alcohol</th>\n",
       "      <th>prediction</th>\n",
       "    </tr>\n",
       "  </thead>\n",
       "  <tbody>\n",
       "    <tr>\n",
       "      <th>0</th>\n",
       "      <td>9.2</td>\n",
       "      <td>0.53</td>\n",
       "      <td>0.24</td>\n",
       "      <td>2.6</td>\n",
       "      <td>0.078</td>\n",
       "      <td>28.0</td>\n",
       "      <td>139.0</td>\n",
       "      <td>0.99788</td>\n",
       "      <td>3.21</td>\n",
       "      <td>0.57</td>\n",
       "      <td>9.5</td>\n",
       "      <td>5.231065</td>\n",
       "    </tr>\n",
       "  </tbody>\n",
       "</table>\n",
       "</div>"
      ],
      "text/plain": [
       "   fixed acidity  volatile acidity  citric acid  residual sugar  chlorides  \\\n",
       "0            9.2              0.53         0.24             2.6      0.078   \n",
       "\n",
       "   free sulfur dioxide  total sulfur dioxide  density    pH  sulphates  \\\n",
       "0                 28.0                 139.0  0.99788  3.21       0.57   \n",
       "\n",
       "   alcohol  prediction  \n",
       "0      9.5    5.231065  "
      ]
     },
     "execution_count": 87,
     "metadata": {},
     "output_type": "execute_result"
    }
   ],
   "source": [
    "pd.DataFrame( r.json(), columns=r.json()[0].keys() )"
   ]
  },
  {
   "cell_type": "code",
   "execution_count": null,
   "metadata": {},
   "outputs": [],
   "source": []
  },
  {
   "cell_type": "code",
   "execution_count": null,
   "metadata": {},
   "outputs": [],
   "source": []
  }
 ],
 "metadata": {
  "kernelspec": {
   "display_name": "Python 3",
   "language": "python",
   "name": "python3"
  },
  "language_info": {
   "codemirror_mode": {
    "name": "ipython",
    "version": 3
   },
   "file_extension": ".py",
   "mimetype": "text/x-python",
   "name": "python",
   "nbconvert_exporter": "python",
   "pygments_lexer": "ipython3",
   "version": "3.8.0"
  }
 },
 "nbformat": 4,
 "nbformat_minor": 4
}
