{
 "cells": [
  {
   "cell_type": "markdown",
   "metadata": {},
   "source": [
    "# 1.0. Imports"
   ]
  },
  {
   "cell_type": "code",
   "execution_count": 15,
   "metadata": {
    "ExecuteTime": {
     "end_time": "2020-04-19T11:56:17.328719Z",
     "start_time": "2020-04-19T11:56:17.322705Z"
    }
   },
   "outputs": [],
   "source": [
    "import numpy as np\n",
    "import pymc3 as pm\n",
    "\n",
    "from matplotlib import pyplot as plt"
   ]
  },
  {
   "cell_type": "markdown",
   "metadata": {},
   "source": [
    "# 2.0. Dados"
   ]
  },
  {
   "cell_type": "code",
   "execution_count": 6,
   "metadata": {
    "ExecuteTime": {
     "end_time": "2020-04-19T11:35:49.330070Z",
     "start_time": "2020-04-19T11:35:49.309299Z"
    }
   },
   "outputs": [],
   "source": [
    "# Dados Xiomi\n",
    "X_a = np.array( [1]* (int(0.83*201) + int(0.09*201)) + [0] * ( int(0.01*201) + int(0.03*201) ) )\n",
    "np.random.shuffle( X_a )\n",
    "\n",
    "# Dados Motorola\n",
    "X_b = np.array( [1]* (int(0.78*301) + int(0.15*301)) + [0] * ( int(0.02*301) + int(0.03*301) ) )\n",
    "np.random.shuffle( X_b )"
   ]
  },
  {
   "cell_type": "markdown",
   "metadata": {},
   "source": [
    "# 3.0. Inferencia Bayesiana"
   ]
  },
  {
   "cell_type": "code",
   "execution_count": 29,
   "metadata": {
    "ExecuteTime": {
     "end_time": "2020-04-19T12:05:18.835563Z",
     "start_time": "2020-04-19T12:04:53.263807Z"
    }
   },
   "outputs": [
    {
     "name": "stderr",
     "output_type": "stream",
     "text": [
      "Multiprocess sampling (2 chains in 2 jobs)\n",
      "CompoundStep\n",
      ">Metropolis: [p_b]\n",
      ">Metropolis: [p_a]\n",
      "Sampling 2 chains, 0 divergences: 100%|██████████| 6000/6000 [00:05<00:00, 1019.78draws/s]\n",
      "The number of effective samples is smaller than 25% for some parameters.\n"
     ]
    }
   ],
   "source": [
    "with pm.Model() as model:\n",
    "    # prior\n",
    "    p_a = pm.Beta( 'p_a', 1, 1 )\n",
    "    p_b = pm.Beta( 'p_b', 28, 0.5 )\n",
    "    \n",
    "    # Determinist\n",
    "    delta = pm.Deterministic( 'delta', p_a - p_b )\n",
    "\n",
    "    # posterior\n",
    "    obs_a = pm.Bernoulli( 'obs_a', p_a, observed=X_a )\n",
    "    obs_b = pm.Bernoulli( 'obs_b', p_b, observed=X_b )\n",
    "\n",
    "    # likelihood\n",
    "    trace = pm.sample( draws=2000, tune=1000, step=pm.Metropolis() )"
   ]
  },
  {
   "cell_type": "markdown",
   "metadata": {},
   "source": [
    "# 4.0. Plot Posterior"
   ]
  },
  {
   "cell_type": "code",
   "execution_count": 30,
   "metadata": {
    "ExecuteTime": {
     "end_time": "2020-04-19T12:05:20.075520Z",
     "start_time": "2020-04-19T12:05:18.902033Z"
    }
   },
   "outputs": [
    {
     "data": {
      "image/png": "[encoded data removed]",
      "text/plain": [
       "<Figure size 1296x720 with 3 Axes>"
      ]
     },
     "metadata": {
      "needs_background": "light"
     },
     "output_type": "display_data"
    }
   ],
   "source": [
    "plt.figure( figsize=(18, 10))\n",
    "\n",
    "plt.subplot( 311 )\n",
    "plt.hist( trace['p_a'], histtype='stepfilled', bins=40, density=True );\n",
    "plt.xlim( [0.84, 1.0] )\n",
    "plt.vlines( trace['p_a'].mean(), 0, 35, linestyle='--' )\n",
    "plt.title( 'Posteriori da Xiomi');\n",
    "\n",
    "plt.subplot( 312 )\n",
    "plt.hist( trace['p_b'], histtype='stepfilled', bins=40, density=True );\n",
    "plt.xlim( [0.84, 1.0] )\n",
    "plt.vlines( trace['p_b'].mean(), 0, 35, linestyle='--' )\n",
    "plt.title( 'Posteriori da Motorola');\n",
    "\n",
    "plt.subplot( 313 )\n",
    "plt.hist( trace['delta'], histtype='stepfilled', bins=40, density=True );\n",
    "plt.vlines( 0, 0, 35, linestyle='--' )\n",
    "plt.title( 'Posteriori da Delta');"
   ]
  },
  {
   "cell_type": "code",
   "execution_count": 31,
   "metadata": {
    "ExecuteTime": {
     "end_time": "2020-04-19T12:05:20.201412Z",
     "start_time": "2020-04-19T12:05:20.128177Z"
    }
   },
   "outputs": [
    {
     "name": "stdout",
     "output_type": "stream",
     "text": [
      "Probabilidade de VOCE gostar mais do Smartphone da Xiomi: 0.504\n",
      "Probabilidade de VOCE gostar mais do Smartphone da Motorola: 0.496\n"
     ]
    }
   ],
   "source": [
    "print( 'Probabilidade de VOCE gostar mais do Smartphone da Xiomi: {}'.format( np.mean( trace['delta'] > 0 ) ) )\n",
    "print( 'Probabilidade de VOCE gostar mais do Smartphone da Motorola: {}'.format( np.mean( trace['delta'] < 0 ) ) )"
   ]
  },
  {
   "cell_type": "code",
   "execution_count": null,
   "metadata": {},
   "outputs": [],
   "source": []
  },
  {
   "cell_type": "code",
   "execution_count": null,
   "metadata": {},
   "outputs": [],
   "source": []
  },
  {
   "cell_type": "code",
   "execution_count": null,
   "metadata": {},
   "outputs": [],
   "source": []
  },
  {
   "cell_type": "code",
   "execution_count": null,
   "metadata": {},
   "outputs": [],
   "source": []
  },
  {
   "cell_type": "code",
   "execution_count": null,
   "metadata": {},
   "outputs": [],
   "source": []
  },
  {
   "cell_type": "code",
   "execution_count": null,
   "metadata": {},
   "outputs": [],
   "source": []
  },
  {
   "cell_type": "code",
   "execution_count": null,
   "metadata": {},
   "outputs": [],
   "source": []
  },
  {
   "cell_type": "code",
   "execution_count": null,
   "metadata": {},
   "outputs": [],
   "source": []
  }
 ],
 "metadata": {
  "kernelspec": {
   "display_name": "Python 3",
   "language": "python",
   "name": "python3"
  },
  "language_info": {
   "codemirror_mode": {
    "name": "ipython",
    "version": 3
   },
   "file_extension": ".py",
   "mimetype": "text/x-python",
   "name": "python",
   "nbconvert_exporter": "python",
   "pygments_lexer": "ipython3",
   "version": "3.8.0"
  }
 },
 "nbformat": 4,
 "nbformat_minor": 4
}
